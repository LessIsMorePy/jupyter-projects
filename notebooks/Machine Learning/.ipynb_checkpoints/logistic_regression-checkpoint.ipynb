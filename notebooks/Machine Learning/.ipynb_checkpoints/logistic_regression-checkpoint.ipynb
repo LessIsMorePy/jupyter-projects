{
 "cells": [
  {
   "cell_type": "markdown",
   "metadata": {},
   "source": [
    "### Modules"
   ]
  },
  {
   "cell_type": "code",
   "execution_count": 34,
   "metadata": {},
   "outputs": [],
   "source": [
    "import pandas as pd\n",
    "from sklearn.linear_model import LogisticRegression \n",
    "from sklearn.metrics import confusion_matrix, classification_report\n",
    "from sklearn.model_selection import train_test_split\n",
    "from sklearn.metrics import roc_curve\n",
    "import matplotlib.pyplot as plt"
   ]
  },
  {
   "cell_type": "markdown",
   "metadata": {},
   "source": [
    "### Importing data"
   ]
  },
  {
   "cell_type": "code",
   "execution_count": 2,
   "metadata": {},
   "outputs": [],
   "source": [
    "file_path = '../../datasets/diabetes.csv'"
   ]
  },
  {
   "cell_type": "code",
   "execution_count": 3,
   "metadata": {},
   "outputs": [],
   "source": [
    "df = pd.read_csv(file_path)"
   ]
  },
  {
   "cell_type": "code",
   "execution_count": 4,
   "metadata": {},
   "outputs": [
    {
     "data": {
      "text/html": [
       "<div>\n",
       "<style scoped>\n",
       "    .dataframe tbody tr th:only-of-type {\n",
       "        vertical-align: middle;\n",
       "    }\n",
       "\n",
       "    .dataframe tbody tr th {\n",
       "        vertical-align: top;\n",
       "    }\n",
       "\n",
       "    .dataframe thead th {\n",
       "        text-align: right;\n",
       "    }\n",
       "</style>\n",
       "<table border=\"1\" class=\"dataframe\">\n",
       "  <thead>\n",
       "    <tr style=\"text-align: right;\">\n",
       "      <th></th>\n",
       "      <th>pregnancies</th>\n",
       "      <th>glucose</th>\n",
       "      <th>diastolic</th>\n",
       "      <th>triceps</th>\n",
       "      <th>insulin</th>\n",
       "      <th>bmi</th>\n",
       "      <th>dpf</th>\n",
       "      <th>age</th>\n",
       "      <th>diabetes</th>\n",
       "    </tr>\n",
       "  </thead>\n",
       "  <tbody>\n",
       "    <tr>\n",
       "      <th>0</th>\n",
       "      <td>6</td>\n",
       "      <td>148</td>\n",
       "      <td>72</td>\n",
       "      <td>35</td>\n",
       "      <td>0</td>\n",
       "      <td>33.6</td>\n",
       "      <td>0.627</td>\n",
       "      <td>50</td>\n",
       "      <td>1</td>\n",
       "    </tr>\n",
       "    <tr>\n",
       "      <th>1</th>\n",
       "      <td>1</td>\n",
       "      <td>85</td>\n",
       "      <td>66</td>\n",
       "      <td>29</td>\n",
       "      <td>0</td>\n",
       "      <td>26.6</td>\n",
       "      <td>0.351</td>\n",
       "      <td>31</td>\n",
       "      <td>0</td>\n",
       "    </tr>\n",
       "    <tr>\n",
       "      <th>2</th>\n",
       "      <td>8</td>\n",
       "      <td>183</td>\n",
       "      <td>64</td>\n",
       "      <td>0</td>\n",
       "      <td>0</td>\n",
       "      <td>23.3</td>\n",
       "      <td>0.672</td>\n",
       "      <td>32</td>\n",
       "      <td>1</td>\n",
       "    </tr>\n",
       "    <tr>\n",
       "      <th>3</th>\n",
       "      <td>1</td>\n",
       "      <td>89</td>\n",
       "      <td>66</td>\n",
       "      <td>23</td>\n",
       "      <td>94</td>\n",
       "      <td>28.1</td>\n",
       "      <td>0.167</td>\n",
       "      <td>21</td>\n",
       "      <td>0</td>\n",
       "    </tr>\n",
       "    <tr>\n",
       "      <th>4</th>\n",
       "      <td>0</td>\n",
       "      <td>137</td>\n",
       "      <td>40</td>\n",
       "      <td>35</td>\n",
       "      <td>168</td>\n",
       "      <td>43.1</td>\n",
       "      <td>2.288</td>\n",
       "      <td>33</td>\n",
       "      <td>1</td>\n",
       "    </tr>\n",
       "  </tbody>\n",
       "</table>\n",
       "</div>"
      ],
      "text/plain": [
       "   pregnancies  glucose  diastolic  triceps  insulin   bmi    dpf  age  \\\n",
       "0            6      148         72       35        0  33.6  0.627   50   \n",
       "1            1       85         66       29        0  26.6  0.351   31   \n",
       "2            8      183         64        0        0  23.3  0.672   32   \n",
       "3            1       89         66       23       94  28.1  0.167   21   \n",
       "4            0      137         40       35      168  43.1  2.288   33   \n",
       "\n",
       "   diabetes  \n",
       "0         1  \n",
       "1         0  \n",
       "2         1  \n",
       "3         0  \n",
       "4         1  "
      ]
     },
     "execution_count": 4,
     "metadata": {},
     "output_type": "execute_result"
    }
   ],
   "source": [
    "df.head()"
   ]
  },
  {
   "cell_type": "markdown",
   "metadata": {},
   "source": [
    "### Labels and targets"
   ]
  },
  {
   "cell_type": "code",
   "execution_count": 5,
   "metadata": {},
   "outputs": [],
   "source": [
    "X = df.drop('diabetes', axis=1)"
   ]
  },
  {
   "cell_type": "code",
   "execution_count": 6,
   "metadata": {},
   "outputs": [],
   "source": [
    "y = df['diabetes']"
   ]
  },
  {
   "cell_type": "code",
   "execution_count": 8,
   "metadata": {},
   "outputs": [
    {
     "data": {
      "text/html": [
       "<div>\n",
       "<style scoped>\n",
       "    .dataframe tbody tr th:only-of-type {\n",
       "        vertical-align: middle;\n",
       "    }\n",
       "\n",
       "    .dataframe tbody tr th {\n",
       "        vertical-align: top;\n",
       "    }\n",
       "\n",
       "    .dataframe thead th {\n",
       "        text-align: right;\n",
       "    }\n",
       "</style>\n",
       "<table border=\"1\" class=\"dataframe\">\n",
       "  <thead>\n",
       "    <tr style=\"text-align: right;\">\n",
       "      <th></th>\n",
       "      <th>pregnancies</th>\n",
       "      <th>glucose</th>\n",
       "      <th>diastolic</th>\n",
       "      <th>triceps</th>\n",
       "      <th>insulin</th>\n",
       "      <th>bmi</th>\n",
       "      <th>dpf</th>\n",
       "      <th>age</th>\n",
       "    </tr>\n",
       "  </thead>\n",
       "  <tbody>\n",
       "    <tr>\n",
       "      <th>0</th>\n",
       "      <td>6</td>\n",
       "      <td>148</td>\n",
       "      <td>72</td>\n",
       "      <td>35</td>\n",
       "      <td>0</td>\n",
       "      <td>33.6</td>\n",
       "      <td>0.627</td>\n",
       "      <td>50</td>\n",
       "    </tr>\n",
       "    <tr>\n",
       "      <th>1</th>\n",
       "      <td>1</td>\n",
       "      <td>85</td>\n",
       "      <td>66</td>\n",
       "      <td>29</td>\n",
       "      <td>0</td>\n",
       "      <td>26.6</td>\n",
       "      <td>0.351</td>\n",
       "      <td>31</td>\n",
       "    </tr>\n",
       "    <tr>\n",
       "      <th>2</th>\n",
       "      <td>8</td>\n",
       "      <td>183</td>\n",
       "      <td>64</td>\n",
       "      <td>0</td>\n",
       "      <td>0</td>\n",
       "      <td>23.3</td>\n",
       "      <td>0.672</td>\n",
       "      <td>32</td>\n",
       "    </tr>\n",
       "    <tr>\n",
       "      <th>3</th>\n",
       "      <td>1</td>\n",
       "      <td>89</td>\n",
       "      <td>66</td>\n",
       "      <td>23</td>\n",
       "      <td>94</td>\n",
       "      <td>28.1</td>\n",
       "      <td>0.167</td>\n",
       "      <td>21</td>\n",
       "    </tr>\n",
       "    <tr>\n",
       "      <th>4</th>\n",
       "      <td>0</td>\n",
       "      <td>137</td>\n",
       "      <td>40</td>\n",
       "      <td>35</td>\n",
       "      <td>168</td>\n",
       "      <td>43.1</td>\n",
       "      <td>2.288</td>\n",
       "      <td>33</td>\n",
       "    </tr>\n",
       "  </tbody>\n",
       "</table>\n",
       "</div>"
      ],
      "text/plain": [
       "   pregnancies  glucose  diastolic  triceps  insulin   bmi    dpf  age\n",
       "0            6      148         72       35        0  33.6  0.627   50\n",
       "1            1       85         66       29        0  26.6  0.351   31\n",
       "2            8      183         64        0        0  23.3  0.672   32\n",
       "3            1       89         66       23       94  28.1  0.167   21\n",
       "4            0      137         40       35      168  43.1  2.288   33"
      ]
     },
     "execution_count": 8,
     "metadata": {},
     "output_type": "execute_result"
    }
   ],
   "source": [
    "X.head()"
   ]
  },
  {
   "cell_type": "code",
   "execution_count": 9,
   "metadata": {},
   "outputs": [
    {
     "data": {
      "text/plain": [
       "0    1\n",
       "1    0\n",
       "2    1\n",
       "3    0\n",
       "4    1\n",
       "Name: diabetes, dtype: int64"
      ]
     },
     "execution_count": 9,
     "metadata": {},
     "output_type": "execute_result"
    }
   ],
   "source": [
    "y.head()"
   ]
  },
  {
   "cell_type": "markdown",
   "metadata": {},
   "source": [
    "### Building a logistic regression model"
   ]
  },
  {
   "cell_type": "code",
   "execution_count": 13,
   "metadata": {},
   "outputs": [],
   "source": [
    "X_train, X_test, y_train, y_test = train_test_split(X, y, test_size = 0.4, random_state=42)"
   ]
  },
  {
   "cell_type": "code",
   "execution_count": 14,
   "metadata": {},
   "outputs": [],
   "source": [
    "# Create the classifier: logreg\n",
    "logreg = LogisticRegression()"
   ]
  },
  {
   "cell_type": "code",
   "execution_count": 15,
   "metadata": {},
   "outputs": [
    {
     "data": {
      "text/plain": [
       "LogisticRegression(C=1.0, class_weight=None, dual=False, fit_intercept=True,\n",
       "          intercept_scaling=1, max_iter=100, multi_class='ovr', n_jobs=1,\n",
       "          penalty='l2', random_state=None, solver='liblinear', tol=0.0001,\n",
       "          verbose=0, warm_start=False)"
      ]
     },
     "execution_count": 15,
     "metadata": {},
     "output_type": "execute_result"
    }
   ],
   "source": [
    "# Fit the classifier to the training data\n",
    "logreg.fit(X_train, y_train)"
   ]
  },
  {
   "cell_type": "code",
   "execution_count": 16,
   "metadata": {},
   "outputs": [],
   "source": [
    "# Predict the labels of the test set: y_pred\n",
    "y_pred = logreg.predict(X_test)"
   ]
  },
  {
   "cell_type": "code",
   "execution_count": 18,
   "metadata": {},
   "outputs": [
    {
     "name": "stdout",
     "output_type": "stream",
     "text": [
      "[[174  32]\n",
      " [ 36  66]]\n"
     ]
    }
   ],
   "source": [
    "# Compute and print the confusion matrix and classification report\n",
    "print(confusion_matrix(y_test, y_pred))"
   ]
  },
  {
   "cell_type": "code",
   "execution_count": 19,
   "metadata": {},
   "outputs": [
    {
     "name": "stdout",
     "output_type": "stream",
     "text": [
      "             precision    recall  f1-score   support\n",
      "\n",
      "          0       0.83      0.84      0.84       206\n",
      "          1       0.67      0.65      0.66       102\n",
      "\n",
      "avg / total       0.78      0.78      0.78       308\n",
      "\n"
     ]
    }
   ],
   "source": [
    "print(classification_report(y_test, y_pred))"
   ]
  },
  {
   "cell_type": "markdown",
   "metadata": {},
   "source": [
    "### Plotting ROC curve"
   ]
  },
  {
   "cell_type": "markdown",
   "metadata": {},
   "source": [
    "Classification reports and confusion matrices are great methods to quantitatively evaluate model performance, while ROC curves provide a way to visually evaluate models."
   ]
  },
  {
   "cell_type": "code",
   "execution_count": 25,
   "metadata": {},
   "outputs": [],
   "source": [
    "y_pred_prob = logreg.predict_proba(X_test)[:,1]"
   ]
  },
  {
   "cell_type": "code",
   "execution_count": 26,
   "metadata": {},
   "outputs": [
    {
     "data": {
      "text/plain": [
       "array([[ 0.61760456,  0.38239544],\n",
       "       [ 0.77666437,  0.22333563],\n",
       "       [ 0.78202778,  0.21797222],\n",
       "       [ 0.75147717,  0.24852283],\n",
       "       [ 0.54380739,  0.45619261],\n",
       "       [ 0.5352928 ,  0.4647072 ],\n",
       "       [ 0.93077363,  0.06922637],\n",
       "       [ 0.29788366,  0.70211634],\n",
       "       [ 0.48672179,  0.51327821],\n",
       "       [ 0.32587177,  0.67412823],\n",
       "       [ 0.66635194,  0.33364806],\n",
       "       [ 0.26491663,  0.73508337],\n",
       "       [ 0.5133914 ,  0.4866086 ],\n",
       "       [ 0.67306851,  0.32693149],\n",
       "       [ 0.85095436,  0.14904564],\n",
       "       [ 0.59191384,  0.40808616],\n",
       "       [ 0.8126821 ,  0.1873179 ],\n",
       "       [ 0.84409797,  0.15590203],\n",
       "       [ 0.1269536 ,  0.8730464 ],\n",
       "       [ 0.48005519,  0.51994481],\n",
       "       [ 0.70675031,  0.29324969],\n",
       "       [ 0.86992461,  0.13007539],\n",
       "       [ 0.51232461,  0.48767539],\n",
       "       [ 0.82638115,  0.17361885],\n",
       "       [ 0.45132098,  0.54867902],\n",
       "       [ 0.25959259,  0.74040741],\n",
       "       [ 0.78209407,  0.21790593],\n",
       "       [ 0.91471099,  0.08528901],\n",
       "       [ 0.72778956,  0.27221044],\n",
       "       [ 0.80934065,  0.19065935],\n",
       "       [ 0.26765248,  0.73234752],\n",
       "       [ 0.2556806 ,  0.7443194 ],\n",
       "       [ 0.30444098,  0.69555902],\n",
       "       [ 0.17378926,  0.82621074],\n",
       "       [ 0.52370169,  0.47629831],\n",
       "       [ 0.37909123,  0.62090877],\n",
       "       [ 0.21007717,  0.78992283],\n",
       "       [ 0.79502585,  0.20497415],\n",
       "       [ 0.49255756,  0.50744244],\n",
       "       [ 0.22473208,  0.77526792],\n",
       "       [ 0.84005385,  0.15994615],\n",
       "       [ 0.45132635,  0.54867365],\n",
       "       [ 0.52312641,  0.47687359],\n",
       "       [ 0.55776274,  0.44223726],\n",
       "       [ 0.91873949,  0.08126051],\n",
       "       [ 0.51558391,  0.48441609],\n",
       "       [ 0.48407102,  0.51592898],\n",
       "       [ 0.73883937,  0.26116063],\n",
       "       [ 0.59744919,  0.40255081],\n",
       "       [ 0.14662699,  0.85337301],\n",
       "       [ 0.88011342,  0.11988658],\n",
       "       [ 0.42710879,  0.57289121],\n",
       "       [ 0.24306258,  0.75693742],\n",
       "       [ 0.68725404,  0.31274596],\n",
       "       [ 0.78579614,  0.21420386],\n",
       "       [ 0.89897585,  0.10102415],\n",
       "       [ 0.30604566,  0.69395434],\n",
       "       [ 0.93498539,  0.06501461],\n",
       "       [ 0.61632496,  0.38367504],\n",
       "       [ 0.2962516 ,  0.7037484 ],\n",
       "       [ 0.38579366,  0.61420634],\n",
       "       [ 0.65669544,  0.34330456],\n",
       "       [ 0.6780249 ,  0.3219751 ],\n",
       "       [ 0.59006448,  0.40993552],\n",
       "       [ 0.86888793,  0.13111207],\n",
       "       [ 0.57885221,  0.42114779],\n",
       "       [ 0.88289474,  0.11710526],\n",
       "       [ 0.41560314,  0.58439686],\n",
       "       [ 0.91067506,  0.08932494],\n",
       "       [ 0.28186456,  0.71813544],\n",
       "       [ 0.33151993,  0.66848007],\n",
       "       [ 0.87913847,  0.12086153],\n",
       "       [ 0.69910148,  0.30089852],\n",
       "       [ 0.84721244,  0.15278756],\n",
       "       [ 0.79685358,  0.20314642],\n",
       "       [ 0.65488334,  0.34511666],\n",
       "       [ 0.77727039,  0.22272961],\n",
       "       [ 0.78654646,  0.21345354],\n",
       "       [ 0.78285021,  0.21714979],\n",
       "       [ 0.720957  ,  0.279043  ],\n",
       "       [ 0.36333322,  0.63666678],\n",
       "       [ 0.80375132,  0.19624868],\n",
       "       [ 0.87011468,  0.12988532],\n",
       "       [ 0.69085239,  0.30914761],\n",
       "       [ 0.68942805,  0.31057195],\n",
       "       [ 0.24036683,  0.75963317],\n",
       "       [ 0.26139754,  0.73860246],\n",
       "       [ 0.64201976,  0.35798024],\n",
       "       [ 0.81210273,  0.18789727],\n",
       "       [ 0.81797413,  0.18202587],\n",
       "       [ 0.86181061,  0.13818939],\n",
       "       [ 0.69812226,  0.30187774],\n",
       "       [ 0.94751115,  0.05248885],\n",
       "       [ 0.28023586,  0.71976414],\n",
       "       [ 0.45865125,  0.54134875],\n",
       "       [ 0.53313849,  0.46686151],\n",
       "       [ 0.5114928 ,  0.4885072 ],\n",
       "       [ 0.80517867,  0.19482133],\n",
       "       [ 0.34626044,  0.65373956],\n",
       "       [ 0.83119697,  0.16880303],\n",
       "       [ 0.45911141,  0.54088859],\n",
       "       [ 0.90242125,  0.09757875],\n",
       "       [ 0.29811891,  0.70188109],\n",
       "       [ 0.52138315,  0.47861685],\n",
       "       [ 0.43577847,  0.56422153],\n",
       "       [ 0.75288196,  0.24711804],\n",
       "       [ 0.67647579,  0.32352421],\n",
       "       [ 0.38934866,  0.61065134],\n",
       "       [ 0.84332938,  0.15667062],\n",
       "       [ 0.57304324,  0.42695676],\n",
       "       [ 0.8191315 ,  0.1808685 ],\n",
       "       [ 0.66136713,  0.33863287],\n",
       "       [ 0.84945741,  0.15054259],\n",
       "       [ 0.3905925 ,  0.6094075 ],\n",
       "       [ 0.75346844,  0.24653156],\n",
       "       [ 0.66199976,  0.33800024],\n",
       "       [ 0.3451373 ,  0.6548627 ],\n",
       "       [ 0.68918946,  0.31081054],\n",
       "       [ 0.85089427,  0.14910573],\n",
       "       [ 0.24575362,  0.75424638],\n",
       "       [ 0.84957575,  0.15042425],\n",
       "       [ 0.72791148,  0.27208852],\n",
       "       [ 0.71565681,  0.28434319],\n",
       "       [ 0.86025689,  0.13974311],\n",
       "       [ 0.64363597,  0.35636403],\n",
       "       [ 0.55971508,  0.44028492],\n",
       "       [ 0.76213753,  0.23786247],\n",
       "       [ 0.22766979,  0.77233021],\n",
       "       [ 0.04211905,  0.95788095],\n",
       "       [ 0.49982276,  0.50017724],\n",
       "       [ 0.32541857,  0.67458143],\n",
       "       [ 0.19728846,  0.80271154],\n",
       "       [ 0.80480688,  0.19519312],\n",
       "       [ 0.55029598,  0.44970402],\n",
       "       [ 0.31450881,  0.68549119],\n",
       "       [ 0.79918368,  0.20081632],\n",
       "       [ 0.74721166,  0.25278834],\n",
       "       [ 0.26463521,  0.73536479],\n",
       "       [ 0.31220683,  0.68779317],\n",
       "       [ 0.94546014,  0.05453986],\n",
       "       [ 0.83589586,  0.16410414],\n",
       "       [ 0.8806219 ,  0.1193781 ],\n",
       "       [ 0.72118883,  0.27881117],\n",
       "       [ 0.49569423,  0.50430577],\n",
       "       [ 0.78206594,  0.21793406],\n",
       "       [ 0.68369204,  0.31630796],\n",
       "       [ 0.81665242,  0.18334758],\n",
       "       [ 0.91919982,  0.08080018],\n",
       "       [ 0.63700627,  0.36299373],\n",
       "       [ 0.33226539,  0.66773461],\n",
       "       [ 0.82483607,  0.17516393],\n",
       "       [ 0.50377226,  0.49622774],\n",
       "       [ 0.65201626,  0.34798374],\n",
       "       [ 0.74978901,  0.25021099],\n",
       "       [ 0.93327941,  0.06672059],\n",
       "       [ 0.59786531,  0.40213469],\n",
       "       [ 0.59799327,  0.40200673],\n",
       "       [ 0.39651695,  0.60348305],\n",
       "       [ 0.31671667,  0.68328333],\n",
       "       [ 0.77523985,  0.22476015],\n",
       "       [ 0.30661577,  0.69338423],\n",
       "       [ 0.35624894,  0.64375106],\n",
       "       [ 0.74094858,  0.25905142],\n",
       "       [ 0.92868247,  0.07131753],\n",
       "       [ 0.80297016,  0.19702984],\n",
       "       [ 0.23476815,  0.76523185],\n",
       "       [ 0.88966496,  0.11033504],\n",
       "       [ 0.68497919,  0.31502081],\n",
       "       [ 0.29616157,  0.70383843],\n",
       "       [ 0.40844074,  0.59155926],\n",
       "       [ 0.38616494,  0.61383506],\n",
       "       [ 0.75316385,  0.24683615],\n",
       "       [ 0.58756799,  0.41243201],\n",
       "       [ 0.42847384,  0.57152616],\n",
       "       [ 0.39313013,  0.60686987],\n",
       "       [ 0.86669742,  0.13330258],\n",
       "       [ 0.62273368,  0.37726632],\n",
       "       [ 0.66329134,  0.33670866],\n",
       "       [ 0.69126988,  0.30873012],\n",
       "       [ 0.71314573,  0.28685427],\n",
       "       [ 0.45325767,  0.54674233],\n",
       "       [ 0.51325802,  0.48674198],\n",
       "       [ 0.56232023,  0.43767977],\n",
       "       [ 0.4618966 ,  0.5381034 ],\n",
       "       [ 0.48374467,  0.51625533],\n",
       "       [ 0.85052281,  0.14947719],\n",
       "       [ 0.89604199,  0.10395801],\n",
       "       [ 0.79565527,  0.20434473],\n",
       "       [ 0.2625871 ,  0.7374129 ],\n",
       "       [ 0.59324345,  0.40675655],\n",
       "       [ 0.83683543,  0.16316457],\n",
       "       [ 0.83003885,  0.16996115],\n",
       "       [ 0.09687468,  0.90312532],\n",
       "       [ 0.68293151,  0.31706849],\n",
       "       [ 0.87550891,  0.12449109],\n",
       "       [ 0.87680198,  0.12319802],\n",
       "       [ 0.97871931,  0.02128069],\n",
       "       [ 0.83039215,  0.16960785],\n",
       "       [ 0.71862913,  0.28137087],\n",
       "       [ 0.37023941,  0.62976059],\n",
       "       [ 0.73596212,  0.26403788],\n",
       "       [ 0.84434017,  0.15565983],\n",
       "       [ 0.65251271,  0.34748729],\n",
       "       [ 0.63719739,  0.36280261],\n",
       "       [ 0.40345255,  0.59654745],\n",
       "       [ 0.84294214,  0.15705786],\n",
       "       [ 0.81169855,  0.18830145],\n",
       "       [ 0.77922022,  0.22077978],\n",
       "       [ 0.17260589,  0.82739411],\n",
       "       [ 0.44390474,  0.55609526],\n",
       "       [ 0.67519631,  0.32480369],\n",
       "       [ 0.74195945,  0.25804055],\n",
       "       [ 0.76545625,  0.23454375],\n",
       "       [ 0.80887281,  0.19112719],\n",
       "       [ 0.37062744,  0.62937256],\n",
       "       [ 0.81554382,  0.18445618],\n",
       "       [ 0.29202439,  0.70797561],\n",
       "       [ 0.6234799 ,  0.3765201 ],\n",
       "       [ 0.64575732,  0.35424268],\n",
       "       [ 0.1905754 ,  0.8094246 ],\n",
       "       [ 0.4605474 ,  0.5394526 ],\n",
       "       [ 0.81468668,  0.18531332],\n",
       "       [ 0.82648718,  0.17351282],\n",
       "       [ 0.78656551,  0.21343449],\n",
       "       [ 0.80954005,  0.19045995],\n",
       "       [ 0.2037115 ,  0.7962885 ],\n",
       "       [ 0.4562022 ,  0.5437978 ],\n",
       "       [ 0.68287677,  0.31712323],\n",
       "       [ 0.70671596,  0.29328404],\n",
       "       [ 0.72823244,  0.27176756],\n",
       "       [ 0.84194416,  0.15805584],\n",
       "       [ 0.88767858,  0.11232142],\n",
       "       [ 0.6908049 ,  0.3091951 ],\n",
       "       [ 0.54662698,  0.45337302],\n",
       "       [ 0.61291023,  0.38708977],\n",
       "       [ 0.48282764,  0.51717236],\n",
       "       [ 0.80445603,  0.19554397],\n",
       "       [ 0.70864952,  0.29135048],\n",
       "       [ 0.6370358 ,  0.3629642 ],\n",
       "       [ 0.25258699,  0.74741301],\n",
       "       [ 0.81869371,  0.18130629],\n",
       "       [ 0.8934105 ,  0.1065895 ],\n",
       "       [ 0.4653158 ,  0.5346842 ],\n",
       "       [ 0.79419917,  0.20580083],\n",
       "       [ 0.73852274,  0.26147726],\n",
       "       [ 0.67676427,  0.32323573],\n",
       "       [ 0.32625481,  0.67374519],\n",
       "       [ 0.77884091,  0.22115909],\n",
       "       [ 0.59583691,  0.40416309],\n",
       "       [ 0.74051516,  0.25948484],\n",
       "       [ 0.78609431,  0.21390569],\n",
       "       [ 0.98592961,  0.01407039],\n",
       "       [ 0.35066741,  0.64933259],\n",
       "       [ 0.83727062,  0.16272938],\n",
       "       [ 0.75208366,  0.24791634],\n",
       "       [ 0.34044171,  0.65955829],\n",
       "       [ 0.7853381 ,  0.2146619 ],\n",
       "       [ 0.57557649,  0.42442351],\n",
       "       [ 0.81157949,  0.18842051],\n",
       "       [ 0.85286517,  0.14713483],\n",
       "       [ 0.49183045,  0.50816955],\n",
       "       [ 0.64194052,  0.35805948],\n",
       "       [ 0.77243641,  0.22756359],\n",
       "       [ 0.90271458,  0.09728542],\n",
       "       [ 0.70375345,  0.29624655],\n",
       "       [ 0.83278828,  0.16721172],\n",
       "       [ 0.49655969,  0.50344031],\n",
       "       [ 0.71550513,  0.28449487],\n",
       "       [ 0.90154694,  0.09845306],\n",
       "       [ 0.66624047,  0.33375953],\n",
       "       [ 0.5511063 ,  0.4488937 ],\n",
       "       [ 0.71227614,  0.28772386],\n",
       "       [ 0.3119568 ,  0.6880432 ],\n",
       "       [ 0.3830119 ,  0.6169881 ],\n",
       "       [ 0.61139214,  0.38860786],\n",
       "       [ 0.80804298,  0.19195702],\n",
       "       [ 0.85463538,  0.14536462],\n",
       "       [ 0.46775983,  0.53224017],\n",
       "       [ 0.77461584,  0.22538416],\n",
       "       [ 0.73406793,  0.26593207],\n",
       "       [ 0.57246245,  0.42753755],\n",
       "       [ 0.42179021,  0.57820979],\n",
       "       [ 0.20813322,  0.79186678],\n",
       "       [ 0.17434858,  0.82565142],\n",
       "       [ 0.81816552,  0.18183448],\n",
       "       [ 0.6436936 ,  0.3563064 ],\n",
       "       [ 0.24299983,  0.75700017],\n",
       "       [ 0.38523303,  0.61476697],\n",
       "       [ 0.91397731,  0.08602269],\n",
       "       [ 0.27134796,  0.72865204],\n",
       "       [ 0.79535276,  0.20464724],\n",
       "       [ 0.63242193,  0.36757807],\n",
       "       [ 0.37145278,  0.62854722],\n",
       "       [ 0.74975598,  0.25024402],\n",
       "       [ 0.66172149,  0.33827851],\n",
       "       [ 0.80334399,  0.19665601],\n",
       "       [ 0.78858035,  0.21141965],\n",
       "       [ 0.43545617,  0.56454383],\n",
       "       [ 0.40997464,  0.59002536],\n",
       "       [ 0.67729724,  0.32270276],\n",
       "       [ 0.72202174,  0.27797826],\n",
       "       [ 0.42574056,  0.57425944],\n",
       "       [ 0.27508529,  0.72491471],\n",
       "       [ 0.90912649,  0.09087351],\n",
       "       [ 0.86021095,  0.13978905],\n",
       "       [ 0.82331107,  0.17668893],\n",
       "       [ 0.98010732,  0.01989268],\n",
       "       [ 0.33374635,  0.66625365]])"
      ]
     },
     "execution_count": 26,
     "metadata": {},
     "output_type": "execute_result"
    }
   ],
   "source": [
    "logreg.predict_proba(X_test)"
   ]
  },
  {
   "cell_type": "code",
   "execution_count": 27,
   "metadata": {},
   "outputs": [
    {
     "data": {
      "text/plain": [
       "array([0, 0, 0, 0, 0, 0, 0, 1, 1, 1, 0, 1, 0, 0, 0, 0, 0, 0, 1, 1, 0, 0, 0,\n",
       "       0, 1, 1, 0, 0, 0, 0, 1, 1, 1, 1, 0, 1, 1, 0, 1, 1, 0, 1, 0, 0, 0, 0,\n",
       "       1, 0, 0, 1, 0, 1, 1, 0, 0, 0, 1, 0, 0, 1, 1, 0, 0, 0, 0, 0, 0, 1, 0,\n",
       "       1, 1, 0, 0, 0, 0, 0, 0, 0, 0, 0, 1, 0, 0, 0, 0, 1, 1, 0, 0, 0, 0, 0,\n",
       "       0, 1, 1, 0, 0, 0, 1, 0, 1, 0, 1, 0, 1, 0, 0, 1, 0, 0, 0, 0, 0, 1, 0,\n",
       "       0, 1, 0, 0, 1, 0, 0, 0, 0, 0, 0, 0, 1, 1, 1, 1, 1, 0, 0, 1, 0, 0, 1,\n",
       "       1, 0, 0, 0, 0, 1, 0, 0, 0, 0, 0, 1, 0, 0, 0, 0, 0, 0, 0, 1, 1, 0, 1,\n",
       "       1, 0, 0, 0, 1, 0, 0, 1, 1, 1, 0, 0, 1, 1, 0, 0, 0, 0, 0, 1, 0, 0, 1,\n",
       "       1, 0, 0, 0, 1, 0, 0, 0, 1, 0, 0, 0, 0, 0, 0, 1, 0, 0, 0, 0, 1, 0, 0,\n",
       "       0, 1, 1, 0, 0, 0, 0, 1, 0, 1, 0, 0, 1, 1, 0, 0, 0, 0, 1, 1, 0, 0, 0,\n",
       "       0, 0, 0, 0, 0, 1, 0, 0, 0, 1, 0, 0, 1, 0, 0, 0, 1, 0, 0, 0, 0, 0, 1,\n",
       "       0, 0, 1, 0, 0, 0, 0, 1, 0, 0, 0, 0, 0, 1, 0, 0, 0, 0, 0, 1, 1, 0, 0,\n",
       "       0, 1, 0, 0, 0, 1, 1, 1, 0, 0, 1, 1, 0, 1, 0, 0, 1, 0, 0, 0, 0, 1, 1,\n",
       "       0, 0, 1, 1, 0, 0, 0, 0, 1], dtype=int64)"
      ]
     },
     "execution_count": 27,
     "metadata": {},
     "output_type": "execute_result"
    }
   ],
   "source": [
    "y_pred"
   ]
  },
  {
   "cell_type": "code",
   "execution_count": 28,
   "metadata": {},
   "outputs": [
    {
     "data": {
      "text/plain": [
       "array([ 0.38239544,  0.22333563,  0.21797222,  0.24852283,  0.45619261,\n",
       "        0.4647072 ,  0.06922637,  0.70211634,  0.51327821,  0.67412823,\n",
       "        0.33364806,  0.73508337,  0.4866086 ,  0.32693149,  0.14904564,\n",
       "        0.40808616,  0.1873179 ,  0.15590203,  0.8730464 ,  0.51994481,\n",
       "        0.29324969,  0.13007539,  0.48767539,  0.17361885,  0.54867902,\n",
       "        0.74040741,  0.21790593,  0.08528901,  0.27221044,  0.19065935,\n",
       "        0.73234752,  0.7443194 ,  0.69555902,  0.82621074,  0.47629831,\n",
       "        0.62090877,  0.78992283,  0.20497415,  0.50744244,  0.77526792,\n",
       "        0.15994615,  0.54867365,  0.47687359,  0.44223726,  0.08126051,\n",
       "        0.48441609,  0.51592898,  0.26116063,  0.40255081,  0.85337301,\n",
       "        0.11988658,  0.57289121,  0.75693742,  0.31274596,  0.21420386,\n",
       "        0.10102415,  0.69395434,  0.06501461,  0.38367504,  0.7037484 ,\n",
       "        0.61420634,  0.34330456,  0.3219751 ,  0.40993552,  0.13111207,\n",
       "        0.42114779,  0.11710526,  0.58439686,  0.08932494,  0.71813544,\n",
       "        0.66848007,  0.12086153,  0.30089852,  0.15278756,  0.20314642,\n",
       "        0.34511666,  0.22272961,  0.21345354,  0.21714979,  0.279043  ,\n",
       "        0.63666678,  0.19624868,  0.12988532,  0.30914761,  0.31057195,\n",
       "        0.75963317,  0.73860246,  0.35798024,  0.18789727,  0.18202587,\n",
       "        0.13818939,  0.30187774,  0.05248885,  0.71976414,  0.54134875,\n",
       "        0.46686151,  0.4885072 ,  0.19482133,  0.65373956,  0.16880303,\n",
       "        0.54088859,  0.09757875,  0.70188109,  0.47861685,  0.56422153,\n",
       "        0.24711804,  0.32352421,  0.61065134,  0.15667062,  0.42695676,\n",
       "        0.1808685 ,  0.33863287,  0.15054259,  0.6094075 ,  0.24653156,\n",
       "        0.33800024,  0.6548627 ,  0.31081054,  0.14910573,  0.75424638,\n",
       "        0.15042425,  0.27208852,  0.28434319,  0.13974311,  0.35636403,\n",
       "        0.44028492,  0.23786247,  0.77233021,  0.95788095,  0.50017724,\n",
       "        0.67458143,  0.80271154,  0.19519312,  0.44970402,  0.68549119,\n",
       "        0.20081632,  0.25278834,  0.73536479,  0.68779317,  0.05453986,\n",
       "        0.16410414,  0.1193781 ,  0.27881117,  0.50430577,  0.21793406,\n",
       "        0.31630796,  0.18334758,  0.08080018,  0.36299373,  0.66773461,\n",
       "        0.17516393,  0.49622774,  0.34798374,  0.25021099,  0.06672059,\n",
       "        0.40213469,  0.40200673,  0.60348305,  0.68328333,  0.22476015,\n",
       "        0.69338423,  0.64375106,  0.25905142,  0.07131753,  0.19702984,\n",
       "        0.76523185,  0.11033504,  0.31502081,  0.70383843,  0.59155926,\n",
       "        0.61383506,  0.24683615,  0.41243201,  0.57152616,  0.60686987,\n",
       "        0.13330258,  0.37726632,  0.33670866,  0.30873012,  0.28685427,\n",
       "        0.54674233,  0.48674198,  0.43767977,  0.5381034 ,  0.51625533,\n",
       "        0.14947719,  0.10395801,  0.20434473,  0.7374129 ,  0.40675655,\n",
       "        0.16316457,  0.16996115,  0.90312532,  0.31706849,  0.12449109,\n",
       "        0.12319802,  0.02128069,  0.16960785,  0.28137087,  0.62976059,\n",
       "        0.26403788,  0.15565983,  0.34748729,  0.36280261,  0.59654745,\n",
       "        0.15705786,  0.18830145,  0.22077978,  0.82739411,  0.55609526,\n",
       "        0.32480369,  0.25804055,  0.23454375,  0.19112719,  0.62937256,\n",
       "        0.18445618,  0.70797561,  0.3765201 ,  0.35424268,  0.8094246 ,\n",
       "        0.5394526 ,  0.18531332,  0.17351282,  0.21343449,  0.19045995,\n",
       "        0.7962885 ,  0.5437978 ,  0.31712323,  0.29328404,  0.27176756,\n",
       "        0.15805584,  0.11232142,  0.3091951 ,  0.45337302,  0.38708977,\n",
       "        0.51717236,  0.19554397,  0.29135048,  0.3629642 ,  0.74741301,\n",
       "        0.18130629,  0.1065895 ,  0.5346842 ,  0.20580083,  0.26147726,\n",
       "        0.32323573,  0.67374519,  0.22115909,  0.40416309,  0.25948484,\n",
       "        0.21390569,  0.01407039,  0.64933259,  0.16272938,  0.24791634,\n",
       "        0.65955829,  0.2146619 ,  0.42442351,  0.18842051,  0.14713483,\n",
       "        0.50816955,  0.35805948,  0.22756359,  0.09728542,  0.29624655,\n",
       "        0.16721172,  0.50344031,  0.28449487,  0.09845306,  0.33375953,\n",
       "        0.4488937 ,  0.28772386,  0.6880432 ,  0.6169881 ,  0.38860786,\n",
       "        0.19195702,  0.14536462,  0.53224017,  0.22538416,  0.26593207,\n",
       "        0.42753755,  0.57820979,  0.79186678,  0.82565142,  0.18183448,\n",
       "        0.3563064 ,  0.75700017,  0.61476697,  0.08602269,  0.72865204,\n",
       "        0.20464724,  0.36757807,  0.62854722,  0.25024402,  0.33827851,\n",
       "        0.19665601,  0.21141965,  0.56454383,  0.59002536,  0.32270276,\n",
       "        0.27797826,  0.57425944,  0.72491471,  0.09087351,  0.13978905,\n",
       "        0.17668893,  0.01989268,  0.66625365])"
      ]
     },
     "execution_count": 28,
     "metadata": {},
     "output_type": "execute_result"
    }
   ],
   "source": [
    "y_pred_prob"
   ]
  },
  {
   "cell_type": "code",
   "execution_count": 29,
   "metadata": {},
   "outputs": [
    {
     "data": {
      "text/plain": [
       "(308, 308)"
      ]
     },
     "execution_count": 29,
     "metadata": {},
     "output_type": "execute_result"
    }
   ],
   "source": [
    "len(y_pred), len(y_pred_prob)"
   ]
  },
  {
   "cell_type": "code",
   "execution_count": 30,
   "metadata": {},
   "outputs": [],
   "source": [
    "fpr, tpr, thresholds = roc_curve(y_test, y_pred_prob)"
   ]
  },
  {
   "cell_type": "code",
   "execution_count": 35,
   "metadata": {},
   "outputs": [
    {
     "data": {
      "image/png": "[encoded data removed]",
      "text/plain": [
       "<matplotlib.figure.Figure at 0x1bbf4107cf8>"
      ]
     },
     "metadata": {},
     "output_type": "display_data"
    }
   ],
   "source": [
    "# Plot ROC curve\n",
    "plt.plot([0, 1], [0, 1], 'k--')\n",
    "plt.plot(fpr, tpr)\n",
    "plt.xlabel('False Positive Rate')\n",
    "plt.ylabel('True Positive Rate')\n",
    "plt.title('ROC Curve')\n",
    "plt.show()"
   ]
  },
  {
   "cell_type": "code",
   "execution_count": 36,
   "metadata": {},
   "outputs": [
    {
     "data": {
      "text/plain": [
       "array([ 0.        ,  0.        ,  0.00485437,  0.00485437,  0.00970874,\n",
       "        0.00970874,  0.01456311,  0.01456311,  0.01941748,  0.01941748,\n",
       "        0.02427184,  0.02427184,  0.02912621,  0.02912621,  0.03883495,\n",
       "        0.03883495,  0.04368932,  0.04368932,  0.04854369,  0.04854369,\n",
       "        0.0631068 ,  0.0631068 ,  0.07281553,  0.07281553,  0.0776699 ,\n",
       "        0.0776699 ,  0.09223301,  0.09223301,  0.09708738,  0.09708738,\n",
       "        0.11165049,  0.11165049,  0.12135922,  0.12135922,  0.12621359,\n",
       "        0.12621359,  0.17475728,  0.17475728,  0.2038835 ,  0.2038835 ,\n",
       "        0.20873786,  0.20873786,  0.22330097,  0.22330097,  0.22815534,\n",
       "        0.22815534,  0.24271845,  0.24271845,  0.27184466,  0.27184466,\n",
       "        0.2815534 ,  0.2815534 ,  0.28640777,  0.28640777,  0.30097087,\n",
       "        0.30097087,  0.31553398,  0.31553398,  0.33009709,  0.33009709,\n",
       "        0.3592233 ,  0.3592233 ,  0.37378641,  0.37378641,  0.39320388,\n",
       "        0.39320388,  0.42718447,  0.42718447,  0.43203883,  0.43203883,\n",
       "        0.44660194,  0.44660194,  0.49029126,  0.49029126,  0.51456311,\n",
       "        0.51456311,  0.51941748,  0.51941748,  0.58737864,  0.58737864,\n",
       "        0.60679612,  0.60679612,  0.63592233,  0.63592233,  0.69902913,\n",
       "        0.69902913,  0.76213592,  0.76213592,  0.7815534 ,  0.7815534 ,\n",
       "        0.79126214,  0.79126214,  1.        ])"
      ]
     },
     "execution_count": 36,
     "metadata": {},
     "output_type": "execute_result"
    }
   ],
   "source": [
    "fpr"
   ]
  },
  {
   "cell_type": "markdown",
   "metadata": {},
   "source": [
    " This ROC curve provides a nice visual way to assess your classifier's performance."
   ]
  },
  {
   "cell_type": "markdown",
   "metadata": {},
   "source": [
    "### AUC[Area Under the ROC] computation "
   ]
  },
  {
   "cell_type": "code",
   "execution_count": 37,
   "metadata": {},
   "outputs": [],
   "source": [
    "from sklearn.metrics import roc_auc_score\n",
    "from sklearn.model_selection import cross_val_score"
   ]
  },
  {
   "cell_type": "code",
   "execution_count": 38,
   "metadata": {},
   "outputs": [
    {
     "name": "stdout",
     "output_type": "stream",
     "text": [
      "AUC: 0.8268608414239483\n"
     ]
    }
   ],
   "source": [
    "print(\"AUC: {}\".format(roc_auc_score(y_test, y_pred_prob)))"
   ]
  },
  {
   "cell_type": "code",
   "execution_count": 43,
   "metadata": {},
   "outputs": [],
   "source": [
    "cv_auc = cross_val_score(logreg, X, y, scoring='roc_auc', cv=5)"
   ]
  },
  {
   "cell_type": "code",
   "execution_count": 44,
   "metadata": {},
   "outputs": [
    {
     "name": "stdout",
     "output_type": "stream",
     "text": [
      "AUC scores computed using 5-fold cross-validation: [ 0.7987037   0.80759259  0.81944444  0.86622642  0.85056604]\n"
     ]
    }
   ],
   "source": [
    "print(\"AUC scores computed using 5-fold cross-validation: {}\".format(cv_auc))"
   ]
  },
  {
   "cell_type": "code",
   "execution_count": 45,
   "metadata": {},
   "outputs": [
    {
     "data": {
      "text/plain": [
       "0.8246623733333333"
      ]
     },
     "execution_count": 45,
     "metadata": {},
     "output_type": "execute_result"
    }
   ],
   "source": [
    "sum([0.80219561, 0.80845051, 0.863341])/3"
   ]
  },
  {
   "cell_type": "markdown",
   "metadata": {},
   "source": [
    "Longer area under dthe ROC curve  = better model"
   ]
  },
  {
   "cell_type": "markdown",
   "metadata": {},
   "source": [
    "### Hyperparameter tuning with GridSearchCV"
   ]
  },
  {
   "cell_type": "code",
   "execution_count": 57,
   "metadata": {},
   "outputs": [],
   "source": [
    "from sklearn.model_selection import GridSearchCV\n",
    "import numpy as np"
   ]
  },
  {
   "cell_type": "code",
   "execution_count": 58,
   "metadata": {},
   "outputs": [],
   "source": [
    "# Setup the hyperparameter grid\n",
    "c_space = np.logspace(-5, 8, 15)\n",
    "param_grid = {'C': c_space}"
   ]
  },
  {
   "cell_type": "code",
   "execution_count": 59,
   "metadata": {},
   "outputs": [],
   "source": [
    "# Instantiate the GridSearchCV object: logreg_cv\n",
    "logreg_cv = GridSearchCV(logreg, param_grid, cv=5)"
   ]
  },
  {
   "cell_type": "code",
   "execution_count": 63,
   "metadata": {},
   "outputs": [
    {
     "data": {
      "text/plain": [
       "GridSearchCV(cv=5, error_score='raise',\n",
       "       estimator=LogisticRegression(C=1.0, class_weight=None, dual=False, fit_intercept=True,\n",
       "          intercept_scaling=1, max_iter=100, multi_class='ovr', n_jobs=1,\n",
       "          penalty='l2', random_state=None, solver='liblinear', tol=0.0001,\n",
       "          verbose=0, warm_start=False),\n",
       "       fit_params=None, iid=True, n_jobs=1,\n",
       "       param_grid={'C': array([  1.00000e-05,   8.48343e-05,   7.19686e-04,   6.10540e-03,\n",
       "         5.17947e-02,   4.39397e-01,   3.72759e+00,   3.16228e+01,\n",
       "         2.68270e+02,   2.27585e+03,   1.93070e+04,   1.63789e+05,\n",
       "         1.38950e+06,   1.17877e+07,   1.00000e+08])},\n",
       "       pre_dispatch='2*n_jobs', refit=True, return_train_score='warn',\n",
       "       scoring=None, verbose=0)"
      ]
     },
     "execution_count": 63,
     "metadata": {},
     "output_type": "execute_result"
    }
   ],
   "source": [
    "# Fit it to the data\n",
    "logreg_cv.fit(X_test, y_test)"
   ]
  },
  {
   "cell_type": "code",
   "execution_count": 64,
   "metadata": {},
   "outputs": [
    {
     "name": "stdout",
     "output_type": "stream",
     "text": [
      "Tuned Logistic Regression Parameters: {'C': 3.7275937203149381}\n"
     ]
    }
   ],
   "source": [
    "# Print the tuned parameters and score\n",
    "print(\"Tuned Logistic Regression Parameters: {}\".format(logreg_cv.best_params_)) "
   ]
  },
  {
   "cell_type": "code",
   "execution_count": 65,
   "metadata": {},
   "outputs": [
    {
     "name": "stdout",
     "output_type": "stream",
     "text": [
      "Best score is 0.775974025974026\n"
     ]
    }
   ],
   "source": [
    "print(\"Best score is {}\".format(logreg_cv.best_score_))"
   ]
  },
  {
   "cell_type": "markdown",
   "metadata": {},
   "source": [
    "### Hyperparameter tuning with RandomizedSearchCV"
   ]
  },
  {
   "cell_type": "markdown",
   "metadata": {},
   "source": [
    "GridSearchCV can be computationally expensive, especially if you are searching over a large hyperparameter space and dealing with multiple hyperparameters. A solution to this is to use RandomizedSearchCV, in which not all hyperparameter values are tried out. Instead, a fixed number of hyperparameter settings is sampled from specified probability distributions."
   ]
  },
  {
   "cell_type": "code",
   "execution_count": 93,
   "metadata": {},
   "outputs": [],
   "source": [
    "from scipy.stats import randint\n",
    "from sklearn.tree import DecisionTreeClassifier\n",
    "from sklearn.model_selection import RandomizedSearchCV"
   ]
  },
  {
   "cell_type": "code",
   "execution_count": 100,
   "metadata": {},
   "outputs": [],
   "source": [
    "# Setup the parameters and distributions to sample from: param_dist\n",
    "param_dist = {\"max_depth\": [3, None],\n",
    "              \"max_features\": randint(1, 9),\n",
    "              \"min_samples_leaf\": randint(1, 9),\n",
    "              \"criterion\": [\"gini\", \"entropy\"]}"
   ]
  },
  {
   "cell_type": "code",
   "execution_count": 101,
   "metadata": {},
   "outputs": [],
   "source": [
    "# Instantiate a Decision Tree classifier: tree\n",
    "tree = DecisionTreeClassifier()"
   ]
  },
  {
   "cell_type": "code",
   "execution_count": 102,
   "metadata": {},
   "outputs": [],
   "source": [
    "# Instantiate the RandomizedSearchCV object: tree_cv\n",
    "tree_cv = RandomizedSearchCV(tree, param_dist, cv=5)"
   ]
  },
  {
   "cell_type": "code",
   "execution_count": 103,
   "metadata": {},
   "outputs": [
    {
     "data": {
      "text/plain": [
       "RandomizedSearchCV(cv=5, error_score='raise',\n",
       "          estimator=DecisionTreeClassifier(class_weight=None, criterion='gini', max_depth=None,\n",
       "            max_features=None, max_leaf_nodes=None,\n",
       "            min_impurity_decrease=0.0, min_impurity_split=None,\n",
       "            min_samples_leaf=1, min_samples_split=2,\n",
       "            min_weight_fraction_leaf=0.0, presort=False, random_state=None,\n",
       "            splitter='best'),\n",
       "          fit_params=None, iid=True, n_iter=10, n_jobs=1,\n",
       "          param_distributions={'max_depth': [3, None], 'max_features': <scipy.stats._distn_infrastructure.rv_frozen object at 0x000001BBF4329320>, 'min_samples_leaf': <scipy.stats._distn_infrastructure.rv_frozen object at 0x000001BBF4329F60>, 'criterion': ['gini', 'entropy']},\n",
       "          pre_dispatch='2*n_jobs', random_state=None, refit=True,\n",
       "          return_train_score='warn', scoring=None, verbose=0)"
      ]
     },
     "execution_count": 103,
     "metadata": {},
     "output_type": "execute_result"
    }
   ],
   "source": [
    "# Fit it to the data\n",
    "tree_cv.fit(X, y)"
   ]
  },
  {
   "cell_type": "code",
   "execution_count": 104,
   "metadata": {},
   "outputs": [
    {
     "name": "stdout",
     "output_type": "stream",
     "text": [
      "Tuned Decision Tree Parameters: {'criterion': 'entropy', 'max_depth': 3, 'max_features': 5, 'min_samples_leaf': 7}\n"
     ]
    }
   ],
   "source": [
    "# Print the tuned parameters and score\n",
    "print(\"Tuned Decision Tree Parameters: {}\".format(tree_cv.best_params_))"
   ]
  },
  {
   "cell_type": "code",
   "execution_count": 105,
   "metadata": {},
   "outputs": [
    {
     "name": "stdout",
     "output_type": "stream",
     "text": [
      "Best score is 0.734375\n"
     ]
    }
   ],
   "source": [
    "print(\"Best score is {}\".format(tree_cv.best_score_))"
   ]
  },
  {
   "cell_type": "markdown",
   "metadata": {},
   "source": [
    "### Hold-out set in practice I: Classification"
   ]
  },
  {
   "cell_type": "code",
   "execution_count": 122,
   "metadata": {},
   "outputs": [],
   "source": [
    "# Create the hyperparameter grid\n",
    "c_space = np.logspace(-5, 8, 15)\n",
    "param_grid = {'C': c_space, 'penalty': ['l1', 'l2']}"
   ]
  },
  {
   "cell_type": "code",
   "execution_count": 123,
   "metadata": {},
   "outputs": [],
   "source": [
    "logreg = LogisticRegression()"
   ]
  },
  {
   "cell_type": "code",
   "execution_count": 124,
   "metadata": {},
   "outputs": [],
   "source": [
    "# Create train and test sets\n",
    "X_train, X_test, y_train, y_test = train_test_split(X, y, test_size=0.4, random_state=42)"
   ]
  },
  {
   "cell_type": "code",
   "execution_count": 125,
   "metadata": {},
   "outputs": [],
   "source": [
    "# Instantiate the GridSearchCV object: logreg_cv\n",
    "logreg_cv = GridSearchCV(logreg, param_grid, cv=5)"
   ]
  },
  {
   "cell_type": "code",
   "execution_count": 126,
   "metadata": {},
   "outputs": [
    {
     "data": {
      "text/plain": [
       "GridSearchCV(cv=5, error_score='raise',\n",
       "       estimator=LogisticRegression(C=1.0, class_weight=None, dual=False, fit_intercept=True,\n",
       "          intercept_scaling=1, max_iter=100, multi_class='ovr', n_jobs=1,\n",
       "          penalty='l2', random_state=None, solver='liblinear', tol=0.0001,\n",
       "          verbose=0, warm_start=False),\n",
       "       fit_params=None, iid=True, n_jobs=1,\n",
       "       param_grid={'C': array([  1.00000e-05,   8.48343e-05,   7.19686e-04,   6.10540e-03,\n",
       "         5.17947e-02,   4.39397e-01,   3.72759e+00,   3.16228e+01,\n",
       "         2.68270e+02,   2.27585e+03,   1.93070e+04,   1.63789e+05,\n",
       "         1.38950e+06,   1.17877e+07,   1.00000e+08]), 'penalty': ['l1', 'l2']},\n",
       "       pre_dispatch='2*n_jobs', refit=True, return_train_score='warn',\n",
       "       scoring=None, verbose=0)"
      ]
     },
     "execution_count": 126,
     "metadata": {},
     "output_type": "execute_result"
    }
   ],
   "source": [
    "# Fit it to the training data\n",
    "logreg_cv.fit(X_train, y_train)"
   ]
  },
  {
   "cell_type": "code",
   "execution_count": 127,
   "metadata": {},
   "outputs": [
    {
     "name": "stdout",
     "output_type": "stream",
     "text": [
      "Tuned Logistic Regression Parameter: {'C': 31.622776601683793, 'penalty': 'l2'}\n"
     ]
    }
   ],
   "source": [
    "# Print the optimal parameters and best score\n",
    "print(\"Tuned Logistic Regression Parameter: {}\".format(logreg_cv.best_params_))"
   ]
  },
  {
   "cell_type": "code",
   "execution_count": 128,
   "metadata": {},
   "outputs": [
    {
     "name": "stdout",
     "output_type": "stream",
     "text": [
      "Tuned Logistic Regression Accuracy: 0.7673913043478261\n"
     ]
    }
   ],
   "source": [
    "print(\"Tuned Logistic Regression Accuracy: {}\".format(logreg_cv.best_score_))"
   ]
  },
  {
   "cell_type": "markdown",
   "metadata": {},
   "source": [
    " ### Hold-out set in practice II: Regression"
   ]
  },
  {
   "cell_type": "markdown",
   "metadata": {},
   "source": [
    "Remember lasso and ridge regression from the previous chapter? Lasso used the L1 penalty to regularize, while ridge used the L2 penalty. There is another type of regularized regression known as the elastic net. In elastic net regularization, the penalty term is a linear combination of the L1 and L2 penalties:"
   ]
  },
  {
   "cell_type": "markdown",
   "metadata": {},
   "source": [
    "a∗L1+b∗L2"
   ]
  },
  {
   "cell_type": "code",
   "execution_count": null,
   "metadata": {},
   "outputs": [],
   "source": []
  }
 ],
 "metadata": {
  "kernelspec": {
   "display_name": "Python 3",
   "language": "python",
   "name": "python3"
  },
  "language_info": {
   "codemirror_mode": {
    "name": "ipython",
    "version": 3
   },
   "file_extension": ".py",
   "mimetype": "text/x-python",
   "name": "python",
   "nbconvert_exporter": "python",
   "pygments_lexer": "ipython3",
   "version": "3.6.4"
  }
 },
 "nbformat": 4,
 "nbformat_minor": 2
}
